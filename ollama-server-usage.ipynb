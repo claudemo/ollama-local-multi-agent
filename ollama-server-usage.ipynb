{
 "cells": [
  {
   "cell_type": "code",
   "execution_count": 1,
   "metadata": {},
   "outputs": [
    {
     "name": "stdout",
     "output_type": "stream",
     "text": [
      "{\"model\":\"llama3\",\"created_at\":\"2024-09-04T17:06:26.210874Z\",\"response\":\"Here's one:\\n\\nLlamas are able to store and process information in their brains similar to humans. They have excellent memory and can recall specific faces, sounds, and even events for years! In fact, llamas are known to remember individual people who have interacted with them in the past, which is quite impressive considering they don't have the same level of cognitive abilities as humans.\",\"done\":true,\"done_reason\":\"stop\",\"context\":[128006,882,128007,271,41551,757,264,2144,922,445,81101,30,128009,128006,78191,128007,271,8586,596,832,1473,43,24705,300,527,3025,311,3637,323,1920,2038,304,872,35202,4528,311,12966,13,2435,617,9250,5044,323,649,19635,3230,12580,11,10578,11,323,1524,4455,369,1667,0,763,2144,11,9507,29189,527,3967,311,6227,3927,1274,889,617,16681,291,449,1124,304,279,3347,11,902,374,5115,16358,13126,814,1541,956,617,279,1890,2237,315,25702,18000,439,12966,13],\"total_duration\":10824711959,\"load_duration\":7895224292,\"prompt_eval_count\":18,\"prompt_eval_duration\":199782000,\"eval_count\":79,\"eval_duration\":2724287000}"
     ]
    }
   ],
   "source": [
    "! curl -X POST http://localhost:11434/api/generate -d \"{\\\"model\\\": \\\"llama3\\\",  \\\"prompt\\\":\\\"Tell me a fact about Llama?\\\", \\\"stream\\\": false}\"\n",
    "\n"
   ]
  }
 ],
 "metadata": {
  "kernelspec": {
   "display_name": "base",
   "language": "python",
   "name": "python3"
  },
  "language_info": {
   "codemirror_mode": {
    "name": "ipython",
    "version": 3
   },
   "file_extension": ".py",
   "mimetype": "text/x-python",
   "name": "python",
   "nbconvert_exporter": "python",
   "pygments_lexer": "ipython3",
   "version": "3.11.4"
  }
 },
 "nbformat": 4,
 "nbformat_minor": 2
}
